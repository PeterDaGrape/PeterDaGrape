{
 "cells": [
  {
   "cell_type": "code",
   "execution_count": null,
   "metadata": {},
   "outputs": [],
   "source": [
    "import gymnasium as gym\n",
    "import numpy as np\n",
    "import random"
   ]
  },
  {
   "cell_type": "code",
   "execution_count": null,
   "metadata": {},
   "outputs": [],
   "source": [
    "learning_rate = 0.1\n",
    "discount = 0.95\n",
    "\n",
    "epsilon = 0.5\n",
    "decay = 0.98\n",
    "\n",
    "num_episodes = 10000\n",
    "\n",
    "render_delay = 1000\n",
    "\n",
    "render = False\n",
    "\n",
    "scenario = 'MountainCar-v0'\n",
    "\n",
    "if render:\n",
    "    env = gym.make(scenario, render_mode='human')\n",
    "\n",
    "else:\n",
    "    env = gym.make(scenario)\n",
    "env.reset()\n"
   ]
  },
  {
   "cell_type": "code",
   "execution_count": null,
   "metadata": {},
   "outputs": [],
   "source": [
    "num_actions = env.action_space.n\n",
    "print(num_actions)\n",
    "\n",
    "discrete_obs_space_size = [10] * len(env.observation_space.high)\n",
    "\n",
    "discrete_obs_space_window_size = (env.observation_space.high - env.observation_space.low) / discrete_obs_space_size\n",
    "print(discrete_obs_space_size)\n",
    "q_table = np.random.uniform(low = -2, high = 0, size = (discrete_obs_space_size + [num_actions]))\n"
   ]
  },
  {
   "cell_type": "code",
   "execution_count": null,
   "metadata": {},
   "outputs": [],
   "source": [
    "def get_disc_state(state):\n",
    "    discrete_state = (state - env.observation_space.low) / discrete_obs_space_window_size\n",
    "    return tuple(discrete_state.astype(int))\n"
   ]
  },
  {
   "cell_type": "code",
   "execution_count": null,
   "metadata": {},
   "outputs": [],
   "source": [
    "\n",
    "for episode in range(num_episodes):\n",
    "\n",
    "    discrete_state = get_disc_state(env.reset()[0])\n",
    "    \n",
    "    done = False\n",
    "\n",
    "    while not done:\n",
    "\n",
    "\n",
    "        if random.uniform(0, 1) < epsilon:\n",
    "            action = random.randint(0, num_actions-1)\n",
    "        else:\n",
    "            action = np.argmax(q_table[discrete_state])\n",
    "\n",
    "        epsilon *= decay\n",
    "\n",
    "\n",
    "        new_state, reward, termination, truncation, _ = env.step(action)\n",
    "\n",
    "        done = termination\n",
    "\n",
    "        new_discrete_state = get_disc_state(new_state)\n",
    "\n",
    "        \n",
    "\n",
    "        if not done:\n",
    "            max_future_q = np.max(q_table[new_discrete_state])\n",
    "\n",
    "            current_q = q_table[discrete_state + (action, )]\n",
    "\n",
    "            new_q = (1 - learning_rate) * current_q + learning_rate * (reward + discount * max_future_q)\n",
    "\n",
    "            q_table[discrete_state + (action, )] = new_q\n",
    "\n",
    "        else:\n",
    "            print(f'Made it on episode {episode}')\n",
    "\n",
    "\n",
    "        discrete_state = new_discrete_state\n",
    "    if (episode + 1) % render_delay == 0:\n",
    "        env = gym.make(scenario, render_mode='human')\n",
    "        env.reset()\n",
    "    else:\n",
    "        env = gym.make(scenario)\n",
    "        env.reset()\n",
    "\n",
    "\n"
   ]
  }
 ],
 "metadata": {
  "kernelspec": {
   "display_name": "base",
   "language": "python",
   "name": "python3"
  },
  "language_info": {
   "codemirror_mode": {
    "name": "ipython",
    "version": 3
   },
   "file_extension": ".py",
   "mimetype": "text/x-python",
   "name": "python",
   "nbconvert_exporter": "python",
   "pygments_lexer": "ipython3",
   "version": "3.1.0"
  }
 },
 "nbformat": 4,
 "nbformat_minor": 2
}
