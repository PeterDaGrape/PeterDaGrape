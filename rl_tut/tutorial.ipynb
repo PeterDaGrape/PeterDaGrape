{
 "cells": [
  {
   "cell_type": "code",
   "execution_count": 8,
   "metadata": {},
   "outputs": [],
   "source": [
    "import gymnasium as gym\n",
    "import numpy as np\n",
    "import random"
   ]
  },
  {
   "cell_type": "code",
   "execution_count": 9,
   "metadata": {},
   "outputs": [
    {
     "data": {
      "text/plain": [
       "(array([-0.5023207,  0.       ], dtype=float32), {})"
      ]
     },
     "execution_count": 9,
     "metadata": {},
     "output_type": "execute_result"
    }
   ],
   "source": [
    "learning_rate = 0.1\n",
    "discount = 0.95\n",
    "\n",
    "epsilon = 0.5\n",
    "decay = 0.98\n",
    "\n",
    "num_episodes = 25000\n",
    "\n",
    "render = False\n",
    "\n",
    "if render:\n",
    "    env = gym.make(\"MountainCar-v0\", render_mode='human')\n",
    "\n",
    "else:\n",
    "    env = gym.make(\"MountainCar-v0\")\n",
    "env.reset()\n",
    "\n",
    "\n"
   ]
  },
  {
   "cell_type": "code",
   "execution_count": 10,
   "metadata": {},
   "outputs": [],
   "source": [
    "num_actions = env.action_space.n\n",
    "\n",
    "discrete_obs_space_size = [20] * len(env.observation_space.high)\n",
    "\n",
    "discrete_obs_space_window_size = (env.observation_space.high - env.observation_space.low) / discrete_obs_space_size\n",
    "\n",
    "q_table = np.random.uniform(low = -2, high = 0, size = (discrete_obs_space_size + [num_actions]))\n",
    "\n"
   ]
  },
  {
   "cell_type": "code",
   "execution_count": 11,
   "metadata": {},
   "outputs": [],
   "source": [
    "def get_disc_state(state):\n",
    "    discrete_state = (state - env.observation_space.low) / discrete_obs_space_window_size\n",
    "    return tuple(discrete_state.astype(int))\n"
   ]
  },
  {
   "cell_type": "code",
   "execution_count": 12,
   "metadata": {},
   "outputs": [],
   "source": [
    "discrete_state = get_disc_state(env.reset()[0])"
   ]
  },
  {
   "cell_type": "code",
   "execution_count": 13,
   "metadata": {},
   "outputs": [],
   "source": [
    "for episode in range(num_episodes):\n",
    "\n",
    "    done = False\n",
    "    while not done:\n",
    "\n",
    "\n",
    "        if random.uniform(0, 1) < epsilon:\n",
    "            action = random.randint(0, num_actions)\n",
    "\n",
    "        epsilon *= decay\n",
    "\n",
    "        action = np.argmax(q_table[discrete_state])\n",
    "\n",
    "        new_state, reward, termination, truncation, _ = env.step(action)\n",
    "\n",
    "        done = termination\n",
    "\n",
    "        new_discrete_state = get_disc_state(new_state)\n",
    "\n",
    "        \n",
    "\n",
    "        if not done:\n",
    "            max_future_q = np.max(q_table[new_discrete_state])\n",
    "\n",
    "            current_q = q_table[discrete_state + (action, )]\n",
    "\n",
    "            new_q = (1 - learning_rate) * current_q * learning_rate * (reward + discount * max_future_q)\n",
    "\n",
    "            q_table[discrete_state + (action, )] = new_q\n",
    "\n",
    "        elif new_state[0] >= env.goal_position:\n",
    "            print (f\"We made it on episode {episode}\")\n",
    "            q_table[discrete_state + (action,)] = 0\n",
    "\n",
    "        discrete_state = new_discrete_state\n",
    "\n",
    "\n",
    "\n",
    "\n"
   ]
  }
 ],
 "metadata": {
  "kernelspec": {
   "display_name": "base",
   "language": "python",
   "name": "python3"
  },
  "language_info": {
   "codemirror_mode": {
    "name": "ipython",
    "version": 3
   },
   "file_extension": ".py",
   "mimetype": "text/x-python",
   "name": "python",
   "nbconvert_exporter": "python",
   "pygments_lexer": "ipython3",
   "version": "3.11.4"
  }
 },
 "nbformat": 4,
 "nbformat_minor": 2
}
