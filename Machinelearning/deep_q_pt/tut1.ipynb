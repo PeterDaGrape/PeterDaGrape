{
 "cells": [
  {
   "cell_type": "code",
   "execution_count": null,
   "metadata": {},
   "outputs": [],
   "source": [
    "from torch import nn\n",
    "import torch\n",
    "import gymnasium as gym\n",
    "from collections import deque\n",
    "import numpy as np\n",
    "import random\n",
    "import itertools"
   ]
  },
  {
   "cell_type": "code",
   "execution_count": null,
   "metadata": {},
   "outputs": [],
   "source": [
    "class Network(nn.Module):\n",
    "    def __init(self, env):\n",
    "        super().__init__()\n",
    "\n",
    "        in_features = int(np.prod(env.observation_space ))\n",
    "\n",
    "\n",
    "        self.net = nn.Sequential(\n",
    "            nn.Linear(in_features, 65),\n",
    "            nn.Tanh(),\n",
    "            nn.Linear(64, env.action_space)\n",
    "\n",
    "\n",
    "        )"
   ]
  },
  {
   "cell_type": "code",
   "execution_count": null,
   "metadata": {},
   "outputs": [],
   "source": [
    "gamma = 0.99\n",
    "batch_size = 32\n",
    "buffer_size = 50000\n",
    "min_replay_size = 1000\n",
    "epsilon_start = 1\n",
    "epsilon_end = 0.02\n",
    "epsilon_decay = 10000\n",
    "target_update_freq = 1000\n",
    "\n"
   ]
  },
  {
   "cell_type": "code",
   "execution_count": null,
   "metadata": {},
   "outputs": [],
   "source": [
    "replay_buffer = deque(maxlen = buffer_size)\n",
    "rew_buffer = deque([0.0], maxlen = 100)"
   ]
  },
  {
   "cell_type": "code",
   "execution_count": null,
   "metadata": {},
   "outputs": [],
   "source": [
    "render = False\n",
    "\n",
    "scenario = 'CartPole-v1'\n",
    "\n",
    "if render:\n",
    "    env = gym.make(scenario, render_mode='human')\n",
    "\n",
    "else:\n",
    "    env = gym.make(scenario)\n"
   ]
  },
  {
   "cell_type": "code",
   "execution_count": null,
   "metadata": {},
   "outputs": [],
   "source": [
    "online_net = Network(env)\n",
    "target_net = Network(env)"
   ]
  },
  {
   "cell_type": "code",
   "execution_count": null,
   "metadata": {},
   "outputs": [],
   "source": [
    "score = 0\n",
    "\n",
    "state = env.reset()\n",
    "for _ in range(min_replay_size):\n",
    "    action = env.action_space.sample()\n",
    "\n",
    "    new_state, reward, done, _ = env.step(action)\n",
    "\n",
    "    transition = (state, action, reward, done, new_state)\n",
    "\n",
    "    replay_buffer.append(transition)\n",
    "\n",
    "    state = new_state\n",
    "\n",
    "    if done:\n",
    "        state = env.reset()\n",
    "\n",
    "for step in itertools.count():\n",
    "    epsilon = np.interp(step, [0, epsilon_decay], [epsilon_start, epsilon_end])\n",
    "\n",
    "    rnd_sample = random.random()\n",
    "    if rnd_sample <= epsilon:\n",
    "        action = env.action_space.sample()\n",
    "\n",
    "    else:\n",
    "        action = online_net.act(state)\n"
   ]
  }
 ],
 "metadata": {
  "language_info": {
   "name": "python"
  }
 },
 "nbformat": 4,
 "nbformat_minor": 2
}
