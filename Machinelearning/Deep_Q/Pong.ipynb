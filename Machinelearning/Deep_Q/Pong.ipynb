{
 "cells": [
  {
   "cell_type": "code",
   "execution_count": 6,
   "metadata": {},
   "outputs": [
    {
     "ename": "ModuleNotFoundError",
     "evalue": "No module named 'gym'",
     "output_type": "error",
     "traceback": [
      "\u001b[0;31m---------------------------------------------------------------------------\u001b[0m",
      "\u001b[0;31mModuleNotFoundError\u001b[0m                       Traceback (most recent call last)",
      "Cell \u001b[0;32mIn[6], line 7\u001b[0m\n\u001b[1;32m      4\u001b[0m \u001b[38;5;28;01mfrom\u001b[39;00m \u001b[38;5;21;01mkeras\u001b[39;00m \u001b[38;5;28;01mimport\u001b[39;00m backend \u001b[38;5;28;01mas\u001b[39;00m keras\n\u001b[1;32m      5\u001b[0m \u001b[38;5;28;01mimport\u001b[39;00m \u001b[38;5;21;01mnumpy\u001b[39;00m \u001b[38;5;28;01mas\u001b[39;00m \u001b[38;5;21;01mnp\u001b[39;00m\n\u001b[0;32m----> 7\u001b[0m \u001b[38;5;28;01mimport\u001b[39;00m \u001b[38;5;21;01mgym\u001b[39;00m\n",
      "\u001b[0;31mModuleNotFoundError\u001b[0m: No module named 'gym'"
     ]
    }
   ],
   "source": [
    "from keras.layers import Activation, Dense, Conv2D, Flatten\n",
    "from keras.models import Sequential, load_model\n",
    "from keras.optimizers import Adam\n",
    "from keras import backend as keras\n",
    "import numpy as np\n",
    "import gymnasium"
   ]
  },
  {
   "cell_type": "code",
   "execution_count": null,
   "metadata": {},
   "outputs": [],
   "source": [
    "class replay_buffer(object):\n",
    "    def __init__(self, max_size, input_shape):\n",
    "        self.mem_size = max_size\n",
    "        self.mem_cntr = 0\n",
    "\n",
    "        self.state_memory = np.zeros((self.mem_size, *input_shape), dtype=np.float32)\n",
    "        self.new_state_memory = np.zeros((self.mem_size, *input_shape), dtype=np.float32)\n",
    "\n",
    "        self.action_memory = np.zeros((self.mem_size), dtype=np.int32)\n",
    "\n",
    "        self.reward_memory = np.zeros((self.mem_size, *input_shape), dtype=np.float32)\n",
    "\n",
    "        self.terminal_memory = np.zeros((self.mem_size, *input_shape), dtype=np.uint8)\n",
    "\n",
    "    def store_transition(self, state, action, reward, state_, done):\n",
    "        index = self.mem_cntr % self.mem_size\n",
    "        self.state_memory[index] = state_\n",
    "        self.reward_memory[index] = reward\n",
    "        self.action_memory[index] = action\n",
    "        self.terminal_memory[index] = done\n",
    "\n",
    "        self.mem_cntr += 1\n",
    "\n",
    "    def sample_buffer(self, batch_size):\n",
    "        max_mem = min(self.mem_cntr, self.mem_size)\n",
    "        batch = np.random.choice(max_mem, batch_size, replace=False)\n",
    "\n",
    "        states = self.state_memory[batch]\n",
    "        new_states = self.new_state_memory[batch]\n",
    "        actions = self.action_memory[batch]\n",
    "        rewards = self.reward_memory[batch]\n",
    "        dones = self.terminal_memory[batch]\n",
    "        \n",
    "        return states, actions, rewards, new_states, dones\n"
   ]
  },
  {
   "cell_type": "code",
   "execution_count": null,
   "metadata": {},
   "outputs": [
    {
     "ename": "SyntaxError",
     "evalue": "invalid syntax. Perhaps you forgot a comma? (737371283.py, line 8)",
     "output_type": "error",
     "traceback": [
      "\u001b[0;36m  Cell \u001b[0;32mIn[5], line 8\u001b[0;36m\u001b[0m\n\u001b[0;31m    Flatten()\u001b[0m\n\u001b[0m    ^\u001b[0m\n\u001b[0;31mSyntaxError\u001b[0m\u001b[0;31m:\u001b[0m invalid syntax. Perhaps you forgot a comma?\n"
     ]
    }
   ],
   "source": [
    "def build_dqn(lr, n_actions, input_dims, fc1_dims):\n",
    "\n",
    "    model = Sequential([\n",
    "        Conv2D(filters = 32, kernel_size = 8, strides = 4, activation = 'relu', input_shape = (*input_dims, ), data_format='channels_first'),\n",
    "        Conv2D(filters = 64, kernel_size = 4, strides = 2, activation = 'relu', data_format='channels_first'),\n",
    "        Conv2D(filters = 64, kernel_size = 3, strides = 1, activation = 'relu', data_format = 'channels_first'),\n",
    "\n",
    "        Flatten(),\n",
    "\n",
    "        Dense(fc1_dims, Activation='relu'),\n",
    "        Dense(n_actions)\n",
    "    ])\n",
    "\n",
    "    model.compile(optimzer = Adam(learning_rate=lr, loss = 'mse'))\n",
    "\n",
    "    return model"
   ]
  },
  {
   "cell_type": "code",
   "execution_count": null,
   "metadata": {},
   "outputs": [],
   "source": [
    "class Agent(object):\n",
    "    def __init__(self, n_actions, epsilon, batch_size, replace_target, input_dims, epsilon_decay, epsilon_min = 0.01, mem_size = 1000000, q_eval_fname = 'q_eval.h5', q_target_fname = 'q_target.h5', , learning_rate = 0.001, discount = 0.99):\n",
    "        self.action_space = [i for i in range(n_actions)]\n",
    "        self.discount = discount\n",
    "        self.epsilon = epsilon\n",
    "        self.epsilon_decay = epsilon_decay\n",
    "        self.epsilon_min = epsilon_min\n",
    "        self.batch_size = batch_size\n",
    "        self.replace_target = replace_target\n",
    "        self.q_target_model_file = q_target_fname\n",
    "        self.q_eval_model_file = q_eval_fname\n",
    "        self.learn_step = 0\n",
    "        self.memory = replay_buffer(mem_size, input_dims)\n",
    "        self.q_eval = build_dqn(learning_rate, n_actions, input_dims=512)\n",
    "        self.q_next = build_dqn(learning_rate, n_actions, input_dims=512)\n",
    "    def replace_target_network(self):\n",
    "        if self.replace is not None and self.learn_step % self.replace == 0:\n",
    "            self.q_next.set_weights(self.q_eval.get_weights)\n",
    "\n",
    "    \n",
    "    def store_transition(self, state, action, reward, new_state, done):\n",
    "        self.memory.store_transition(state, action, reward, new_state, done)\n",
    "    def choose_action(self, observation):\n",
    "        if np.random.choice() < self.epsilon:\n",
    "            action = np.random.choice(self.action_space)\n",
    "        else:\n",
    "            state = np.array([observation], copy = False, dtype = np.float32)\n",
    "            actions = self.q_eval.predict(state)\n",
    "            actins = np.argmax(actions)\n",
    "\n",
    "        return action\n",
    "    \n",
    "    def learn(self):\n",
    "        if self.memory.mem_cntr > self.batch_size:\n",
    "            state, action, reward, new_state, done = self.memory.sample_buffer(self.batch_size)\n",
    "        \n",
    "        self.replace_target_network()\n",
    "\n",
    "        q_eval = self.q_eval.predict(state)\n",
    "        q_next = self.q_next.predict(new_state)\n",
    "\n",
    "        q_next[done] = 0.0\n",
    "\n",
    "        indices = np.arrange(self.batch_size)\n",
    "        q_target = q_eval[:]\n",
    "        \n",
    "        q_target[indices, action] = reward + self.discount * np.max(q_next, axis = 1)\n",
    "\n",
    "        self.q_eval.train_on_batch(state, q_target)\n",
    "\n",
    "        if self.epsilon > self.epsilon_min:\n",
    "            self.epsilon = self.epsilon - self.epsilon_decay\n",
    "\n",
    "        self.learn_step += 1\n",
    "\n",
    "    def save_models(self):\n",
    "        self.q_eval.save(self.q_eval_model_file)\n",
    "        self.q_next.save(self.q_target_model_file)\n",
    "        print('Models are saved')\n",
    "\n",
    "    def load_models(self):\n",
    "        self.q_eval = load_model(self.q_eval_model_file)\n",
    "        self.q_next = load_model(self.q_target_model_file)\n",
    "        \n",
    "\n"
   ]
  },
  {
   "cell_type": "code",
   "execution_count": null,
   "metadata": {},
   "outputs": [],
   "source": [
    "class SkipEnv(gymnasium.Wrapper):\n",
    "    def __init__(self, env = None, skip = 4):\n",
    "        super(SkipEnv, self).__init__(env)\n",
    "        self._skip = skip\n",
    "    def step(self, action):\n",
    "        t_reward = 0.9\n",
    "        done = False\n",
    "        for _ in range(self._skip):\n",
    "            obs, reward, done, info = self.env.step(action)\n",
    "            t_reward += reward\n",
    "            if done:\n",
    "                break\n",
    "        return obs, t_reward, done, info"
   ]
  },
  {
   "cell_type": "code",
   "execution_count": null,
   "metadata": {},
   "outputs": [],
   "source": [
    "class PreProcessFrame(gymnasium.ObservationWrapper):\n",
    "    def __init__(self, env = None):\n",
    "        super(PreProcessFrame, self).__init__(env)\n",
    "        self.observation_space = gymnasium.spaces.Box(low = 0, high = 255, shape = (80, 80, 1), dtype = np.uint8)\n",
    "\n",
    "    def observation(self, obs):\n",
    "        return PreProcessFrame.process(obs)\n",
    "    def process(frame):\n",
    "        new_frame = np.reshape(frame, frame.shape).astype(np.float32)\n",
    "        new_frame = 0.299 * new_frame[:,:,0] + 0.587 * new_frame[:,:,1] + 0.114 * new_frame[:,:,2]\n",
    "        new_frame = new_frame[35:195:2, ::2].reshape(80, 80, 1)\n",
    "        return new_frame.astype(np.uint8)\n",
    "    \n",
    "\n"
   ]
  }
 ],
 "metadata": {
  "kernelspec": {
   "display_name": "base",
   "language": "python",
   "name": "python3"
  },
  "language_info": {
   "codemirror_mode": {
    "name": "ipython",
    "version": 3
   },
   "file_extension": ".py",
   "mimetype": "text/x-python",
   "name": "python",
   "nbconvert_exporter": "python",
   "pygments_lexer": "ipython3",
   "version": "3.11.4"
  }
 },
 "nbformat": 4,
 "nbformat_minor": 2
}
