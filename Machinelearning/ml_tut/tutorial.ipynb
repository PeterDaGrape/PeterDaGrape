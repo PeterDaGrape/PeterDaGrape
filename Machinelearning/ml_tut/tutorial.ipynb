{
 "cells": [
  {
   "cell_type": "code",
   "execution_count": 165,
   "metadata": {},
   "outputs": [],
   "source": [
    "import numpy as np\n",
    "import random\n"
   ]
  },
  {
   "cell_type": "code",
   "execution_count": 166,
   "metadata": {},
   "outputs": [],
   "source": [
    "def scaler(data):\n",
    "    return ((data - 13) / (100 - 13) - 0.5) * 2\n",
    "\n",
    "def data_generator(number_elements):\n",
    "    data = []\n",
    "    labels = []\n",
    "    for i in range(10000):\n",
    "        age = random.randint(13, 100)\n",
    "\n",
    "        label = [1, 0]\n",
    "\n",
    "        if random.random() < 0:\n",
    "            label = [0, 1]\n",
    "            \n",
    "\n",
    "\n",
    "\n",
    "        if age < 65:\n",
    "            labels.append(label[1])\n",
    "        else:\n",
    "            labels.append(label[0])\n",
    "        \n",
    "        data.append(age)\n",
    "    labels = np.array(labels)\n",
    "    data = np.array(data)\n",
    "\n",
    "    \n",
    "    scaled_train = np.array(list(map(scaler, data))).reshape(-1, 1)\n",
    "\n",
    "\n",
    "    return scaled_train, labels"
   ]
  },
  {
   "cell_type": "code",
   "execution_count": 167,
   "metadata": {},
   "outputs": [],
   "source": [
    "scaled_train, train_labels = data_generator(1000)"
   ]
  },
  {
   "cell_type": "code",
   "execution_count": 168,
   "metadata": {},
   "outputs": [],
   "source": [
    "import keras\n",
    "from keras import backend as K\n",
    "from keras.models import Sequential\n",
    "from keras.layers import Activation, Dense\n",
    "from keras.optimizers import Adam\n",
    "from keras.metrics import categorical_crossentropy\n"
   ]
  },
  {
   "cell_type": "code",
   "execution_count": 169,
   "metadata": {},
   "outputs": [],
   "source": [
    "model = Sequential([\n",
    "    Dense(16, input_shape = (1,), activation = 'relu'),\n",
    "    Dense(32, activation = 'relu'),\n",
    "    Dense(2, activation = 'softmax')\n",
    "])"
   ]
  },
  {
   "cell_type": "code",
   "execution_count": 170,
   "metadata": {},
   "outputs": [],
   "source": [
    "model.compile(Adam(learning_rate = 0.0001), loss = 'sparse_categorical_crossentropy', metrics = ['accuracy'])"
   ]
  },
  {
   "cell_type": "code",
   "execution_count": 171,
   "metadata": {},
   "outputs": [
    {
     "name": "stdout",
     "output_type": "stream",
     "text": [
      "Epoch 1/20\n",
      "90/90 - 1s - loss: 0.6825 - accuracy: 0.7247 - val_loss: 0.6613 - val_accuracy: 0.9800 - 941ms/epoch - 10ms/step\n",
      "Epoch 2/20\n",
      "90/90 - 0s - loss: 0.6366 - accuracy: 0.9894 - val_loss: 0.6122 - val_accuracy: 1.0000 - 163ms/epoch - 2ms/step\n",
      "Epoch 3/20\n",
      "90/90 - 0s - loss: 0.5858 - accuracy: 0.9956 - val_loss: 0.5616 - val_accuracy: 0.9910 - 164ms/epoch - 2ms/step\n",
      "Epoch 4/20\n",
      "90/90 - 0s - loss: 0.5360 - accuracy: 0.9878 - val_loss: 0.5136 - val_accuracy: 0.9910 - 161ms/epoch - 2ms/step\n",
      "Epoch 5/20\n",
      "90/90 - 0s - loss: 0.4869 - accuracy: 0.9878 - val_loss: 0.4625 - val_accuracy: 0.9910 - 163ms/epoch - 2ms/step\n",
      "Epoch 6/20\n",
      "90/90 - 0s - loss: 0.4356 - accuracy: 0.9951 - val_loss: 0.4137 - val_accuracy: 1.0000 - 164ms/epoch - 2ms/step\n",
      "Epoch 7/20\n",
      "90/90 - 0s - loss: 0.3868 - accuracy: 1.0000 - val_loss: 0.3656 - val_accuracy: 1.0000 - 161ms/epoch - 2ms/step\n",
      "Epoch 8/20\n",
      "90/90 - 0s - loss: 0.3418 - accuracy: 0.9953 - val_loss: 0.3233 - val_accuracy: 0.9890 - 161ms/epoch - 2ms/step\n",
      "Epoch 9/20\n",
      "90/90 - 0s - loss: 0.3021 - accuracy: 0.9886 - val_loss: 0.2859 - val_accuracy: 0.9890 - 163ms/epoch - 2ms/step\n",
      "Epoch 10/20\n",
      "90/90 - 0s - loss: 0.2671 - accuracy: 0.9886 - val_loss: 0.2527 - val_accuracy: 0.9890 - 161ms/epoch - 2ms/step\n",
      "Epoch 11/20\n",
      "90/90 - 0s - loss: 0.2362 - accuracy: 0.9886 - val_loss: 0.2235 - val_accuracy: 0.9890 - 162ms/epoch - 2ms/step\n",
      "Epoch 12/20\n",
      "90/90 - 0s - loss: 0.2094 - accuracy: 0.9886 - val_loss: 0.1983 - val_accuracy: 0.9890 - 163ms/epoch - 2ms/step\n",
      "Epoch 13/20\n",
      "90/90 - 0s - loss: 0.1864 - accuracy: 0.9886 - val_loss: 0.1767 - val_accuracy: 0.9890 - 160ms/epoch - 2ms/step\n",
      "Epoch 14/20\n",
      "90/90 - 0s - loss: 0.1664 - accuracy: 0.9886 - val_loss: 0.1575 - val_accuracy: 0.9890 - 163ms/epoch - 2ms/step\n",
      "Epoch 15/20\n",
      "90/90 - 0s - loss: 0.1487 - accuracy: 0.9886 - val_loss: 0.1409 - val_accuracy: 0.9890 - 161ms/epoch - 2ms/step\n",
      "Epoch 16/20\n",
      "90/90 - 0s - loss: 0.1338 - accuracy: 0.9886 - val_loss: 0.1268 - val_accuracy: 0.9890 - 161ms/epoch - 2ms/step\n",
      "Epoch 17/20\n",
      "90/90 - 0s - loss: 0.1209 - accuracy: 0.9886 - val_loss: 0.1148 - val_accuracy: 0.9890 - 159ms/epoch - 2ms/step\n",
      "Epoch 18/20\n",
      "90/90 - 0s - loss: 0.1100 - accuracy: 0.9886 - val_loss: 0.1047 - val_accuracy: 0.9890 - 160ms/epoch - 2ms/step\n",
      "Epoch 19/20\n",
      "90/90 - 0s - loss: 0.1008 - accuracy: 0.9886 - val_loss: 0.0960 - val_accuracy: 0.9890 - 158ms/epoch - 2ms/step\n",
      "Epoch 20/20\n",
      "90/90 - 0s - loss: 0.0929 - accuracy: 0.9921 - val_loss: 0.0886 - val_accuracy: 1.0000 - 161ms/epoch - 2ms/step\n"
     ]
    },
    {
     "data": {
      "text/plain": [
       "<keras.src.callbacks.History at 0x7ecbc86610>"
      ]
     },
     "execution_count": 171,
     "metadata": {},
     "output_type": "execute_result"
    }
   ],
   "source": [
    "model.fit(scaled_train, train_labels, batch_size = 100, epochs = 20, validation_split = 0.1, verbose = 2)"
   ]
  },
  {
   "cell_type": "code",
   "execution_count": 172,
   "metadata": {},
   "outputs": [],
   "source": [
    "test_data, test_labels = data_generator(200)"
   ]
  },
  {
   "cell_type": "code",
   "execution_count": 173,
   "metadata": {},
   "outputs": [
    {
     "name": "stdout",
     "output_type": "stream",
     "text": [
      "2000/2000 [==============================] - 2s 991us/step\n"
     ]
    }
   ],
   "source": [
    "predictions = model.predict(test_data, batch_size = 5)"
   ]
  },
  {
   "cell_type": "code",
   "execution_count": 174,
   "metadata": {},
   "outputs": [
    {
     "name": "stdout",
     "output_type": "stream",
     "text": [
      "(10000, 2)\n"
     ]
    }
   ],
   "source": [
    "print(predictions.shape)"
   ]
  },
  {
   "cell_type": "code",
   "execution_count": 175,
   "metadata": {},
   "outputs": [],
   "source": [
    "discrete_predictions = np.argmax(predictions, axis = 1)"
   ]
  }
 ],
 "metadata": {
  "kernelspec": {
   "display_name": "Python 3 (ipykernel)",
   "language": "python",
   "name": "python3"
  }
 },
 "nbformat": 4,
 "nbformat_minor": 2
}
